{
 "cells": [
  {
   "cell_type": "code",
   "execution_count": 1,
   "metadata": {
    "collapsed": true
   },
   "outputs": [],
   "source": [
    "#for twitter API\n",
    "import tweepy\n",
    "#for NLP\n",
    "import textblob\n",
    "#visualization\n",
    "from pylab import *"
   ]
  },
  {
   "cell_type": "code",
   "execution_count": 2,
   "metadata": {
    "collapsed": true
   },
   "outputs": [],
   "source": [
    "#get data from twitter using the below API setup\n",
    "customer_key = 'KIFEFfYGZvopbZtcR3PJrGTVq'\n",
    "customer_secret = 'Dav48uFsZrylEk3l1LrzJXisxPl841RBc95vHVV1Oups8uDZYO'\n",
    "\n",
    "access_token = '925084055607001090-RrhT207AbhhFgPl3EDKpSyrQp5oOLDk'\n",
    "access_token_secret = '144f3SdY1NgQiYAJQJ2JdPaBvO56ApHTZvtZ1Da23UrFq'\n",
    "\n",
    "auth = tweepy.OAuthHandler(customer_key, customer_secret)\n",
    "auth.set_access_token(access_token,access_token_secret)\n",
    "\n",
    "\n",
    "api = tweepy.API(auth)"
   ]
  },
  {
   "cell_type": "code",
   "execution_count": 3,
   "metadata": {},
   "outputs": [
    {
     "name": "stdout",
     "output_type": "stream",
     "text": [
      "Enter the topic:obama\n",
      "RT @keithboykin: If Obama had spent 5 years lying about George Bush’s birth certificate, had 5 kids from 3 women, and his third wife was an…\n",
      "Sentiment(polarity=-0.05, subjectivity=0.05)\n",
      "@HNIJohnMiller \"REEEEEE RACISM\" it's like they forget that Barack Hussein Obama isn't president anymore\n",
      "Sentiment(polarity=0.0, subjectivity=0.0)\n",
      "ABC News Says Confiscation is the Key to Stopping Gun Violence-**ABC News is a Sunni Muslim terrorist Obama news Ou… https://t.co/pjgCiILP9u\n",
      "Sentiment(polarity=0.0, subjectivity=1.0)\n",
      "RT @nzo11: President Trump is nowhere near RUSSIAN SCANDAL \n",
      "\n",
      "It’s HILLARY &amp; Obama that are so entrenched in Russia.\n",
      "\n",
      "Now evolving, it’s obv…\n",
      "Sentiment(polarity=0.05, subjectivity=0.2)\n",
      "Because Prexy Barack Obama settle it into city in 2012, the Delayed Suit representing Puerility Appearance syllabus, or DACA, has...\n",
      "Sentiment(polarity=0.0, subjectivity=0.0)\n",
      "RT @SusanStormXO: Omg @jeffsessions \n",
      "Holy Hell he doesn’t want to investigate the Obama &amp; Clinton \n",
      "Wow  @Jim_Jordan Asked Straight Out \n",
      "\n",
      "I…\n",
      "Sentiment(polarity=0.15000000000000002, subjectivity=0.7)\n",
      "RT @gangtanboys: young Obama, Bernie, Hillary, and Biden, y'all. https://t.co/6xoY4PxgbP\n",
      "Sentiment(polarity=0.1, subjectivity=0.4)\n",
      "RT @keithboykin: If Obama had spent 5 years lying about George Bush’s birth certificate, had 5 kids from 3 women, and his third wife was an…\n",
      "Sentiment(polarity=-0.05, subjectivity=0.05)\n",
      "RT @cloutgangkert: Obama would have never tweeted this shit https://t.co/aS4q2Y7oRQ\n",
      "Sentiment(polarity=-0.2, subjectivity=0.8)\n",
      "RT @SLandinSoCal: John Brennan, James Clapper &amp; James Comey all lied to Congress &amp; should be investigated for conspiracy w Barack Obama &amp; H…\n",
      "Sentiment(polarity=0.0, subjectivity=0.0)\n",
      "RT @Education4Libs: Kaepernick gets citizen of the year, Obama gets a Nobel Prize just for political talk, and Bruce Jenner gets woman of t…\n",
      "Sentiment(polarity=0.0, subjectivity=0.1)\n",
      "https://t.co/yv4h9t8Hal : bd05c06f-96a3-43a1-8a88-1277e53c2778\n",
      "Sentiment(polarity=0.0, subjectivity=0.0)\n",
      "RT @gangtanboys: young Obama, Bernie, Hillary, and Biden, y'all. https://t.co/6xoY4PxgbP\n",
      "Sentiment(polarity=0.1, subjectivity=0.4)\n",
      "RT @PhilMcCrackin44: ➡️ Please RT if you agree that President Trump has accomplished more in his first 10 months in office, than Barry Obam…\n",
      "Sentiment(polarity=0.31666666666666665, subjectivity=0.4444444444444444)\n",
      "@RLHotchkiss @QueenMab87 @indigoace Really, Obama was establishment? A black man, a Junior Senator, a virtual unknown before 2007?\n",
      "Sentiment(polarity=-0.022222222222222216, subjectivity=0.41111111111111115)\n"
     ]
    }
   ],
   "source": [
    "#user input key to search the data from twitter\n",
    "search = input('Enter the topic:')\n",
    "public_tweet = api.search(search)\n",
    "polarityList = []\n",
    "subjectivityList = []\n",
    "for tweet in public_tweet:\n",
    "\tprint (tweet.text)\n",
    "\tanalysis = textblob.TextBlob(tweet.text)\n",
    "\tprint (analysis.sentiment)\n",
    "\tpolarityList.append(analysis.sentiment.polarity)\n",
    "\tsubjectivityList.append(analysis.sentiment.subjectivity)\n",
    "#print (polarityList)\n",
    "#print (subjectivityList)"
   ]
  },
  {
   "cell_type": "code",
   "execution_count": 4,
   "metadata": {},
   "outputs": [
    {
     "data": {
      "image/png": "[encoded data removed]",
      "text/plain": [
       "<matplotlib.figure.Figure at 0x147d00a9978>"
      ]
     },
     "metadata": {},
     "output_type": "display_data"
    }
   ],
   "source": [
    "#to visualize the data using pie chart\n",
    "countPositive = 0\n",
    "countNegative = 0\n",
    "countNeutral = 0\n",
    "for i in polarityList:\n",
    "    if i > 0:\n",
    "        countPositive += 1\n",
    "    elif i <0:\n",
    "        countNegative += 1\n",
    "    else:\n",
    "        countNeutral += 1\n",
    "label = (\"Positive\", \"Negative\",\"Neutral\")\n",
    "sizes = (countPositive, countNegative, countNeutral)\n",
    "pie(sizes, labels = label,autopct='%1.1f%%', startangle = 90, shadow=True)\n",
    "axis('equal')\n",
    "title('Twitter Sentiment Analysis', bbox={'facecolor':'0.8', 'pad':5})\n",
    "show()"
   ]
  }
 ],
 "metadata": {
  "kernelspec": {
   "display_name": "Python 3",
   "language": "python",
   "name": "python3"
  },
  "language_info": {
   "codemirror_mode": {
    "name": "ipython",
    "version": 3
   },
   "file_extension": ".py",
   "mimetype": "text/x-python",
   "name": "python",
   "nbconvert_exporter": "python",
   "pygments_lexer": "ipython3",
   "version": "3.6.1"
  }
 },
 "nbformat": 4,
 "nbformat_minor": 2
}
